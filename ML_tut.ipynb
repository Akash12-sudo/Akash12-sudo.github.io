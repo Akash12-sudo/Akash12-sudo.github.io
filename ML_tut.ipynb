{
  "nbformat": 4,
  "nbformat_minor": 0,
  "metadata": {
    "colab": {
      "provenance": [],
      "authorship_tag": "ABX9TyOaQhkdcZjhWYtzdLqYFRDx",
      "include_colab_link": true
    },
    "kernelspec": {
      "name": "python3",
      "display_name": "Python 3"
    },
    "language_info": {
      "name": "python"
    }
  },
  "cells": [
    {
      "cell_type": "markdown",
      "metadata": {
        "id": "view-in-github",
        "colab_type": "text"
      },
      "source": [
        "<a href=\"https://colab.research.google.com/github/Akash12-sudo/Akash12-sudo.github.io/blob/master/ML_tut.ipynb\" target=\"_parent\"><img src=\"https://colab.research.google.com/assets/colab-badge.svg\" alt=\"Open In Colab\"/></a>"
      ]
    },
    {
      "cell_type": "code",
      "source": [
        "import numpy as np\n",
        "import pandas as pd\n",
        "from matplotlib import pyplot as plt\n",
        "%matplotlib inline"
      ],
      "metadata": {
        "id": "epGQY2wGfcV5"
      },
      "execution_count": 110,
      "outputs": []
    },
    {
      "cell_type": "code",
      "source": [
        "a = [[5, 2, 3], [6, 4, 1], [8, 3, 5]]\n",
        "b = [[2, 4, 6], [9, 1, 5], [5, 8, 6]]\n",
        "\n",
        "a = np.array(a)\n",
        "b = np.array(b)\n",
        "\n",
        "c = np.linalg.inv(a)\n",
        "c"
      ],
      "metadata": {
        "colab": {
          "base_uri": "https://localhost:8080/"
        },
        "id": "0sEkzXIxffEY",
        "outputId": "f8af0b72-d066-4bfe-9e13-1ce1526f9c4e"
      },
      "execution_count": 111,
      "outputs": [
        {
          "output_type": "execute_result",
          "data": {
            "text/plain": [
              "array([[-17.,   1.,  10.],\n",
              "       [ 22.,  -1., -13.],\n",
              "       [ 14.,  -1.,  -8.]])"
            ]
          },
          "metadata": {},
          "execution_count": 111
        }
      ]
    },
    {
      "cell_type": "code",
      "source": [
        "train_df = pd.read_csv('train.csv')\n",
        "train_df.shape"
      ],
      "metadata": {
        "id": "NK-KsMm9fhue",
        "colab": {
          "base_uri": "https://localhost:8080/"
        },
        "outputId": "18755322-6e45-426c-f2cc-9bd86d645296"
      },
      "execution_count": 112,
      "outputs": [
        {
          "output_type": "execute_result",
          "data": {
            "text/plain": [
              "(1460, 81)"
            ]
          },
          "metadata": {},
          "execution_count": 112
        }
      ]
    },
    {
      "cell_type": "code",
      "source": [
        "X = train_df.iloc[:, :-1]\n",
        "Y = train_df.iloc[:, -1]"
      ],
      "metadata": {
        "id": "XhVvK5hY7CRp"
      },
      "execution_count": 194,
      "outputs": []
    },
    {
      "cell_type": "code",
      "source": [
        "from sklearn.impute import SimpleImputer\n",
        "imputer = SimpleImputer(strategy = 'most_frequent', verbose = 0)\n",
        "X = imputer.fit_transform(X)"
      ],
      "metadata": {
        "id": "ogPaJNriGsZw"
      },
      "execution_count": 255,
      "outputs": []
    },
    {
      "cell_type": "code",
      "source": [
        "from sklearn.preprocessing import LabelEncoder\n",
        "encoder = LabelEncoder()"
      ],
      "metadata": {
        "id": "a8d5SvUyGzwV"
      },
      "execution_count": 256,
      "outputs": []
    },
    {
      "cell_type": "code",
      "source": [
        "num_cols = X.shape\n",
        "for col_no in range(0, num_cols[1]):\n",
        "  col = X[:, col_no]\n",
        "  if col.dtype == 'object':\n",
        "    X[:, col_no] = encoder.fit_transform(X[:, col_no])"
      ],
      "metadata": {
        "id": "RTitbvF6G1bB"
      },
      "execution_count": 263,
      "outputs": []
    },
    {
      "cell_type": "code",
      "source": [
        "X"
      ],
      "metadata": {
        "colab": {
          "base_uri": "https://localhost:8080/"
        },
        "id": "2CqBiE4AHVfQ",
        "outputId": "e0f391cd-807b-4100-dfd4-93141fb7181c"
      },
      "execution_count": 264,
      "outputs": [
        {
          "output_type": "execute_result",
          "data": {
            "text/plain": [
              "array([[0, 5, 3, ..., 2, 8, 4],\n",
              "       [1, 0, 3, ..., 1, 8, 4],\n",
              "       [2, 5, 3, ..., 2, 8, 4],\n",
              "       ...,\n",
              "       [1457, 6, 3, ..., 4, 8, 4],\n",
              "       [1458, 0, 3, ..., 4, 8, 4],\n",
              "       [1459, 0, 3, ..., 2, 8, 4]], dtype=object)"
            ]
          },
          "metadata": {},
          "execution_count": 264
        }
      ]
    },
    {
      "cell_type": "code",
      "source": [
        "from sklearn.preprocessing import StandardScaler\n",
        "scaler = StandardScaler()\n",
        "X = scaler.fit_transform(X)"
      ],
      "metadata": {
        "id": "jClx3haXJjN0"
      },
      "execution_count": 297,
      "outputs": []
    },
    {
      "cell_type": "code",
      "source": [
        "from sklearn.decomposition import PCA\n",
        "pca = PCA(n_components = 0.95)\n",
        "X_pca = pca.fit_transform(X)"
      ],
      "metadata": {
        "id": "pniTvCutJH9Z"
      },
      "execution_count": 298,
      "outputs": []
    },
    {
      "cell_type": "code",
      "source": [
        "X_pca"
      ],
      "metadata": {
        "colab": {
          "base_uri": "https://localhost:8080/"
        },
        "id": "W93HwNUsJThw",
        "outputId": "d73f7c86-94c4-477a-fae2-5ced6fa5374f"
      },
      "execution_count": 300,
      "outputs": [
        {
          "output_type": "execute_result",
          "data": {
            "text/plain": [
              "array([[ 2.20255563, -0.08861704, -1.86032068, ..., -0.64855253,\n",
              "         0.28027966, -0.19001069],\n",
              "       [ 0.32937978, -1.74439903,  2.14083276, ...,  0.93110049,\n",
              "        -0.30610165,  0.70871959],\n",
              "       [ 2.87878157,  0.15782187, -0.94713101, ..., -0.41481523,\n",
              "         0.36348753,  0.26426233],\n",
              "       ...,\n",
              "       [ 1.25439686,  2.99331568,  0.51119035, ..., -0.33389065,\n",
              "        -1.12898184,  0.55979922],\n",
              "       [-3.04635004, -2.35738873,  2.24713698, ..., -0.24199614,\n",
              "         0.32066299, -0.05775462],\n",
              "       [-1.02020069, -2.37718323,  2.32184514, ...,  1.00927749,\n",
              "        -0.54865757, -0.38865845]])"
            ]
          },
          "metadata": {},
          "execution_count": 300
        }
      ]
    },
    {
      "cell_type": "code",
      "source": [
        "from sklearn.model_selection import train_test_split\n",
        "X_train, X_test, y_train, y_test = train_test_split(X_pca, Y, test_size = 0.2, random_state = 25)"
      ],
      "metadata": {
        "id": "yiVB-Oveh1tt"
      },
      "execution_count": 301,
      "outputs": []
    },
    {
      "cell_type": "code",
      "source": [
        "y_train = np.array(y_train)\n",
        "y_test = np.array(y_test)"
      ],
      "metadata": {
        "id": "xdAqG982TCIF"
      },
      "execution_count": 302,
      "outputs": []
    },
    {
      "cell_type": "code",
      "source": [
        "import xgboost as xgb\n",
        "xgb_model = xgb.XGBRegressor(objective = 'reg:squarederror', random_state = 42)\n",
        "xgb_model.fit(X_train, y_train)"
      ],
      "metadata": {
        "colab": {
          "base_uri": "https://localhost:8080/"
        },
        "id": "1uOAjNZbyPbw",
        "outputId": "c18d6fc3-0347-4b0e-dc50-a3e4bb9faddb"
      },
      "execution_count": 303,
      "outputs": [
        {
          "output_type": "execute_result",
          "data": {
            "text/plain": [
              "XGBRegressor(objective='reg:squarederror', random_state=42)"
            ]
          },
          "metadata": {},
          "execution_count": 303
        }
      ]
    },
    {
      "cell_type": "code",
      "source": [
        "y_test"
      ],
      "metadata": {
        "colab": {
          "base_uri": "https://localhost:8080/"
        },
        "id": "Ip_yl2XqH4Ai",
        "outputId": "c27c54cf-69c2-4472-d202-4a13f725edb9"
      },
      "execution_count": 304,
      "outputs": [
        {
          "output_type": "execute_result",
          "data": {
            "text/plain": [
              "array([320000, 339750, 185750, 266000, 180500, 189000, 180000, 232600,\n",
              "       163990, 167240, 424870, 147400, 350000, 230000, 320000, 153900,\n",
              "       177000, 119500, 170000, 263000, 140000, 446261, 200000, 156932,\n",
              "       117000,  89500, 148500, 274900, 284000, 118400, 225000, 194500,\n",
              "       132000, 326000, 176000, 197000, 260000, 162000,  93000, 129000,\n",
              "       172500, 192000, 187000, 132500, 170000, 195000, 170000, 193000,\n",
              "        97000, 240000, 180000, 130000, 118500, 205000, 192500, 116000,\n",
              "       185000,  97000, 189000, 265979, 110000, 169500,  85000, 224000,\n",
              "       250000, 160000, 159500, 261500, 165000, 120000, 150500, 341000,\n",
              "       260000, 235000, 206000, 128000, 105000, 129500, 125000, 745000,\n",
              "       181000,  40000, 140000, 144000, 205000, 156000, 216500, 160000,\n",
              "       611657, 102000, 260000, 149000, 345000, 132500, 271000, 217500,\n",
              "       222000, 194000, 140000, 171000, 159000, 193000, 172400, 165150,\n",
              "       142000, 167500, 125500, 108000, 155000, 185000, 195000, 270000,\n",
              "       127000, 145000, 269790, 200000, 195000, 128000, 194000, 100000,\n",
              "       451950, 171500, 112000, 100000, 179200, 178400, 228500, 197900,\n",
              "       180000, 224900,  67000, 142000,  93500, 328900, 200141, 239000,\n",
              "       139400, 186000, 165000, 174000, 245500, 102000, 314813, 140000,\n",
              "       201000, 103200, 101800, 128000, 225000, 217000, 269500, 246578,\n",
              "       129000, 178000, 437154, 220000, 177500, 311872, 127500, 194500,\n",
              "       206300, 277000, 119000, 185000, 119200, 205000, 235000, 158000,\n",
              "       194500,  98600, 141000, 160000, 156000, 218000, 125500, 130000,\n",
              "       149000,  97500, 129500, 168500, 174000, 131500, 319000,  85000,\n",
              "       152000,  97000, 163500, 224000, 219500, 255900, 200000, 114500,\n",
              "       119000, 213000,  82000, 148000, 149000, 145000, 333168, 115000,\n",
              "       128000,  91000,  82500, 150750, 125000, 173000, 137500, 190000,\n",
              "       145000, 163000, 230500, 222000, 158000, 112000, 215000, 137500,\n",
              "       107400,  94500, 278000, 380000, 147000, 214900, 139000, 107500,\n",
              "       255500, 465000, 140000, 175500, 316600, 149000, 181000, 144152,\n",
              "       154000, 158500, 219500, 145500, 119000, 259000, 239000, 138000,\n",
              "       305900, 134000,  55000, 173900, 214500, 177500, 197500, 253293,\n",
              "       135000, 625000, 200000, 160200, 253000, 159500,  39300, 191000,\n",
              "       130500, 127000, 147500, 149900, 395000, 215000, 118500, 124500,\n",
              "       412500, 134000, 377426,  79500, 187500, 207000, 197000, 109500,\n",
              "       191000,  89471, 185850, 136500, 318000, 141000, 143000, 144000,\n",
              "        80000, 110500, 155000, 124500, 143750, 109008, 241000, 176000,\n",
              "       230000, 130000, 262500, 105000])"
            ]
          },
          "metadata": {},
          "execution_count": 304
        }
      ]
    },
    {
      "cell_type": "code",
      "source": [
        "y_pred = xgb_model.predict(X_test)"
      ],
      "metadata": {
        "id": "hvH-ffVMyPyX"
      },
      "execution_count": 305,
      "outputs": []
    },
    {
      "cell_type": "code",
      "source": [
        "y_pred"
      ],
      "metadata": {
        "colab": {
          "base_uri": "https://localhost:8080/"
        },
        "id": "Zm1NSxroHqtQ",
        "outputId": "df4c2dfe-84eb-482a-95b4-de7028b478da"
      },
      "execution_count": 306,
      "outputs": [
        {
          "output_type": "execute_result",
          "data": {
            "text/plain": [
              "array([361966.6  , 307283.28 , 172310.08 , 265815.97 , 163169.03 ,\n",
              "       196375.83 , 203416.16 , 233829.5  , 178741.92 , 178765.64 ,\n",
              "       388526.78 , 161067.61 , 308503.16 , 242333.58 , 366764.75 ,\n",
              "       161008.73 , 142261.58 , 123436.53 , 169691.38 , 239312.48 ,\n",
              "       143499.2  , 418483.6  , 203501.47 , 175296.62 , 112168.945,\n",
              "       102571.58 , 142157.12 , 320022.75 , 271791.1  , 120232.84 ,\n",
              "       183311.2  , 201198.73 , 116579.336, 363652.03 , 171026.78 ,\n",
              "       244021.98 , 266519.   , 186366.12 , 101503.66 , 135824.36 ,\n",
              "       238097.7  , 193639.14 , 185254.72 , 140429.86 , 183206.25 ,\n",
              "       185650.42 , 162262.53 , 194566.48 ,  98877.94 , 222807.98 ,\n",
              "       189332.56 , 119263.14 , 104686.64 , 200413.8  , 213378.19 ,\n",
              "       108558.836, 190379.84 , 116797.164, 178816.98 , 184251.66 ,\n",
              "       106884.65 , 145647.89 ,  95346.3  , 199686.77 , 275161.5  ,\n",
              "       163563.86 , 144211.17 , 253632.61 , 184361.47 , 111759.97 ,\n",
              "       156990.83 , 302322.47 , 237791.75 , 236453.34 , 189578.86 ,\n",
              "       139435.55 , 115454.37 , 117493.68 , 126408.85 , 414043.53 ,\n",
              "       193046.61 ,  86457.6  , 140944.02 , 118631.52 , 221442.39 ,\n",
              "       148928.06 , 205459.94 , 125558.72 , 446378.5  , 107828.73 ,\n",
              "       270373.06 , 144458.19 , 310114.94 , 136595.69 , 263159.38 ,\n",
              "       217140.48 , 219998.7  , 189412.38 , 136924.84 , 166194.17 ,\n",
              "       184862.67 , 183474.22 , 176994.89 , 178277.25 , 142065.31 ,\n",
              "       153656.38 , 113864.04 , 127776.055, 144110.94 , 177469.06 ,\n",
              "       193883.22 , 287206.8  , 104070.05 , 118298.92 , 248424.16 ,\n",
              "       200497.   , 213519.34 , 118123.87 , 193561.5  , 113480.016,\n",
              "       416562.75 , 171378.11 , 111001.5  , 111863.2  , 173340.16 ,\n",
              "       201360.28 , 233789.16 , 194195.02 , 159783.39 , 185785.81 ,\n",
              "        78862.26 , 138724.69 ,  85609.75 , 255423.3  , 201833.89 ,\n",
              "       241910.8  , 117212.33 , 170734.06 , 173331.72 , 166720.31 ,\n",
              "       228219.42 , 108712.38 , 403621.   , 135386.28 , 234626.94 ,\n",
              "       100182.39 , 107894.94 , 145615.03 , 240903.17 , 197650.6  ,\n",
              "       269118.12 , 242817.47 , 139303.86 , 179240.11 , 446342.78 ,\n",
              "       250207.78 , 160378.39 , 395382.97 , 145390.52 , 201369.05 ,\n",
              "       194333.84 , 261080.19 , 156649.17 , 188187.03 , 122701.914,\n",
              "       234607.45 , 193291.9  , 158168.67 , 194168.31 , 118176.766,\n",
              "       144488.6  , 169918.36 , 153824.14 , 209187.72 , 121473.26 ,\n",
              "       144137.62 , 158505.73 , 122014.69 , 132284.06 , 187436.02 ,\n",
              "       207693.97 , 131440.64 , 289582.88 ,  96751.23 , 169130.39 ,\n",
              "       113429.7  , 143651.28 , 211914.58 , 193519.38 , 237156.58 ,\n",
              "       215187.7  , 100766.78 , 104949.664, 210671.95 ,  79315.08 ,\n",
              "       151234.11 , 153772.36 , 163461.72 , 312530.97 , 125538.17 ,\n",
              "       139929.52 ,  95957.875, 106252.64 , 152438.11 , 106248.93 ,\n",
              "       171030.75 , 143297.73 , 203058.77 , 137540.92 , 155553.56 ,\n",
              "       239280.48 , 284106.66 , 165767.52 , 149356.28 , 218268.36 ,\n",
              "       159096.67 , 108184.65 ,  98725.28 , 314868.12 , 344156.72 ,\n",
              "       119616.46 , 213290.03 , 161341.56 , 111380.625, 275161.6  ,\n",
              "       397138.75 , 131079.02 , 159324.88 , 226156.5  , 123377.72 ,\n",
              "       181032.06 , 152902.47 , 179535.52 , 150544.28 , 230955.39 ,\n",
              "       148544.11 , 113681.78 , 263288.7  , 182036.4  , 132322.56 ,\n",
              "       292063.34 , 136381.62 , 110011.61 , 174485.8  , 161325.19 ,\n",
              "       159616.55 , 173108.84 , 376248.62 , 134335.64 , 461307.94 ,\n",
              "       181346.06 , 181664.12 , 229185.2  , 179609.89 ,  53038.258,\n",
              "       188976.77 , 139066.7  , 121653.734, 153430.94 , 166283.03 ,\n",
              "       292189.12 , 213477.64 , 113055.48 , 121444.445, 432038.66 ,\n",
              "       146375.55 , 363995.72 ,  83209.08 , 175864.53 , 201906.03 ,\n",
              "       202914.98 ,  98288.125, 184349.14 , 132818.03 , 208966.42 ,\n",
              "       140824.77 , 300831.28 , 137473.44 , 136628.95 , 151066.06 ,\n",
              "       101465.055, 111968.625, 143932.6  , 122880.97 , 142454.67 ,\n",
              "       107229.99 , 222425.1  , 178950.44 , 261882.83 , 118417.29 ,\n",
              "       200023.77 ,  99931.16 ], dtype=float32)"
            ]
          },
          "metadata": {},
          "execution_count": 306
        }
      ]
    },
    {
      "cell_type": "code",
      "source": [
        "# evaluation\n",
        "from sklearn.metrics import mean_squared_error, r2_score\n",
        "mse = mean_squared_error(y_test, y_pred)\n",
        "print(mse)\n",
        "r2s = r2_score(y_test, y_pred)\n",
        "print(r2s)"
      ],
      "metadata": {
        "colab": {
          "base_uri": "https://localhost:8080/"
        },
        "id": "VaLBQKmNyP71",
        "outputId": "4180482d-f7ad-4be0-d8ff-f59f6424dda1"
      },
      "execution_count": 307,
      "outputs": [
        {
          "output_type": "stream",
          "name": "stdout",
          "text": [
            "1132132002.1566691\n",
            "0.8539285769610905\n"
          ]
        }
      ]
    },
    {
      "cell_type": "code",
      "source": [
        "y_test[55], y_pred[55]"
      ],
      "metadata": {
        "colab": {
          "base_uri": "https://localhost:8080/"
        },
        "id": "-hEQ2qZp9nFy",
        "outputId": "983ba3b8-91a9-48b1-d2ab-14399b37dbe1"
      },
      "execution_count": 313,
      "outputs": [
        {
          "output_type": "execute_result",
          "data": {
            "text/plain": [
              "(116000, 108558.836)"
            ]
          },
          "metadata": {},
          "execution_count": 313
        }
      ]
    },
    {
      "cell_type": "code",
      "source": [
        "plt.plot(y_test, label = 'Original Value')\n",
        "plt.plot(y_pred, label = 'Predicted Value')\n",
        "plt.legend()\n",
        "plt.show()"
      ],
      "metadata": {
        "colab": {
          "base_uri": "https://localhost:8080/",
          "height": 265
        },
        "id": "3KQnCrIMBWNp",
        "outputId": "1210e50a-e2ef-4c3c-83be-27a9d7f3f1d8"
      },
      "execution_count": 312,
      "outputs": [
        {
          "output_type": "display_data",
          "data": {
            "text/plain": [
              "<Figure size 432x288 with 1 Axes>"
            ],
            "image/png": "[encoded data removed]"
          },
          "metadata": {
            "needs_background": "light"
          }
        }
      ]
    }
  ]
}